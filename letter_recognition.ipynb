{
 "cells": [
  {
   "cell_type": "code",
   "execution_count": 1,
   "metadata": {
    "collapsed": true
   },
   "outputs": [],
   "source": [
    "import numpy as np\n",
    "import pandas as pd\n",
    "from pandas import DataFrame, Series\n",
    "from sklearn import metrics\n",
    "import seaborn as sns\n",
    "import matplotlib.pyplot as plt"
   ]
  },
  {
   "cell_type": "code",
   "execution_count": 8,
   "metadata": {},
   "outputs": [
    {
     "name": "stdout",
     "output_type": "stream",
     "text": [
      "  lettr  x-box  y-box  width  high  onpix  x-bar  y-bar  x2bar  y2bar  xybar  \\\n",
      "0     T      2      8      3     5      1      8     13      0      6      6   \n",
      "1     I      5     12      3     7      2     10      5      5      4     13   \n",
      "2     D      4     11      6     8      6     10      6      2      6     10   \n",
      "3     N      7     11      6     6      3      5      9      4      6      4   \n",
      "4     G      2      1      3     1      1      8      6      6      6      6   \n",
      "\n",
      "   x2ybr  xy2br  x-ege  xegvy  y-ege  yegvx  \n",
      "0     10      8      0      8      0      8  \n",
      "1      3      9      2      8      4     10  \n",
      "2      3      7      3      7      3      9  \n",
      "3      4     10      6     10      2      8  \n",
      "4      5      9      1      7      5     10  \n",
      "\n",
      "\n",
      "Data set Dimensions : (20000, 17)\n"
     ]
    }
   ],
   "source": [
    "names = ['lettr','x-box','y-box','width','high','onpix','x-bar','y-bar','x2bar','y2bar','xybar','x2ybr','xy2br','x-ege',\\\n",
    "        'xegvy','y-ege','yegvx']\n",
    "df = pd.read_csv('data.txt', header=None, names=names)\n",
    "print(df.head())\n",
    "print('\\n')\n",
    "print('Data set Dimensions :',df.shape)"
   ]
  },
  {
   "cell_type": "code",
   "execution_count": 9,
   "metadata": {},
   "outputs": [
    {
     "name": "stdout",
     "output_type": "stream",
     "text": [
      "Categories and their respective values: [{'T': 19, 'I': 8, 'D': 3, 'N': 13, 'G': 6, 'S': 18, 'B': 1, 'A': 0, 'J': 9, 'M': 12, 'X': 23, 'O': 14, 'R': 17, 'F': 5, 'C': 2, 'H': 7, 'W': 22, 'L': 11, 'P': 15, 'E': 4, 'V': 21, 'Y': 24, 'Q': 16, 'U': 20, 'K': 10, 'Z': 25}]\n"
     ]
    }
   ],
   "source": [
    "# Converting 'object' type variable(categorical) to numeric\n",
    "lookup = []\n",
    "for i in df.columns:\n",
    "    names = df[i]\n",
    "    l = {}\n",
    "   \n",
    "    if df[i].dtype == 'object':\n",
    "        df[i] = pd.Categorical(df[i])\n",
    "        df[i] = df[i].cat.codes\n",
    "        \n",
    "        for x in range(len(names)):\n",
    "            if names[x] not in l:\n",
    "                l[names[x]] = df[i][x]\n",
    "            \n",
    "        lookup.append(l)\n",
    "        \n",
    "print('Categories and their respective values:',lookup)"
   ]
  },
  {
   "cell_type": "code",
   "execution_count": 10,
   "metadata": {},
   "outputs": [
    {
     "name": "stdout",
     "output_type": "stream",
     "text": [
      "Feature Variable Dimension: (20000, 16)\n",
      "Target Variable Dimension: (20000,)\n"
     ]
    }
   ],
   "source": [
    "X = df.drop('lettr',axis=1)\n",
    "print('Feature Variable Dimension:',X.shape)\n",
    "y = df.lettr\n",
    "print('Target Variable Dimension:',y.shape)"
   ]
  },
  {
   "cell_type": "code",
   "execution_count": 11,
   "metadata": {},
   "outputs": [
    {
     "name": "stdout",
     "output_type": "stream",
     "text": [
      "X Train: (15000, 16)\n",
      "X Test: (5000, 16)\n",
      "Y Train: (15000,)\n",
      "Y Test: (5000,)\n"
     ]
    }
   ],
   "source": [
    "from sklearn.model_selection import train_test_split\n",
    "X_train, X_test, Y_train, Y_test = train_test_split(X, y, test_size = 0.25, random_state = 12)\n",
    "print('X Train:',X_train.shape)\n",
    "print('X Test:',X_test.shape)\n",
    "print('Y Train:',Y_train.shape)\n",
    "print('Y Test:',Y_test.shape)\n"
   ]
  },
  {
   "cell_type": "markdown",
   "metadata": {},
   "source": [
    "<h1>KNN</h1>"
   ]
  },
  {
   "cell_type": "code",
   "execution_count": 12,
   "metadata": {},
   "outputs": [
    {
     "name": "stdout",
     "output_type": "stream",
     "text": [
      "KNN Accuracy with default parameters: 95.4 %\n"
     ]
    }
   ],
   "source": [
    "from sklearn.neighbors import KNeighborsClassifier\n",
    "knn = KNeighborsClassifier(n_neighbors=5, weights='uniform')               \n",
    "\n",
    "knn_model = knn.fit(X_train, Y_train)\n",
    "knn_predict = knn.predict(X_test)\n",
    "\n",
    "print ('KNN Accuracy with default parameters:',metrics.accuracy_score(knn_predict, Y_test)*100,'%')"
   ]
  },
  {
   "cell_type": "code",
   "execution_count": 13,
   "metadata": {},
   "outputs": [
    {
     "name": "stdout",
     "output_type": "stream",
     "text": [
      "Max Accuracy of KNN = 96.12% at K = 4\n"
     ]
    },
    {
     "data": {
      "image/png": "[encoded data removed]",
      "text/plain": [
       "<matplotlib.figure.Figure at 0x1af8fcec780>"
      ]
     },
     "metadata": {},
     "output_type": "display_data"
    }
   ],
   "source": [
    "# Tuning available parameters for optimal results\n",
    "knn_K_range = range(1,25)\n",
    "acc = []\n",
    "for i in knn_K_range:\n",
    "    knn = KNeighborsClassifier(n_neighbors=i, n_jobs=1, weights='distance')            \n",
    "    knn_model = knn.fit(X_train, Y_train)\n",
    "    knn_predict = knn.predict(X_test)\n",
    "    acc.append(metrics.accuracy_score(knn_predict, Y_test))\n",
    "\n",
    "max_knn_acc = max(acc)\n",
    "knn_index = acc.index(max(acc)) + 1\n",
    "print('Max Accuracy of KNN = ' + str(max_knn_acc*100) + '% at K = ' + str(knn_index))\n",
    "\n",
    "plt.plot(knn_K_range,acc)\n",
    "plt.grid(True)\n",
    "plt.show()"
   ]
  },
  {
   "cell_type": "code",
   "execution_count": 14,
   "metadata": {
    "scrolled": true
   },
   "outputs": [
    {
     "name": "stdout",
     "output_type": "stream",
     "text": [
      "             precision    recall  f1-score   support\n",
      "\n",
      "          0       0.99      0.99      0.99       175\n",
      "          1       0.88      0.98      0.93       204\n",
      "          2       0.99      0.96      0.98       200\n",
      "          3       0.86      0.96      0.91       205\n",
      "          4       0.89      0.99      0.94       175\n",
      "          5       0.86      0.98      0.91       185\n",
      "          6       0.97      0.96      0.97       187\n",
      "          7       0.90      0.90      0.90       178\n",
      "          8       0.94      0.97      0.95       202\n",
      "          9       0.96      0.90      0.93       173\n",
      "         10       0.95      0.90      0.92       200\n",
      "         11       0.99      0.96      0.98       187\n",
      "         12       0.99      0.98      0.98       193\n",
      "         13       0.97      0.96      0.96       189\n",
      "         14       0.89      0.97      0.93       183\n",
      "         15       0.99      0.87      0.92       186\n",
      "         16       0.97      0.94      0.96       198\n",
      "         17       0.96      0.91      0.93       198\n",
      "         18       0.99      0.94      0.97       180\n",
      "         19       0.95      0.98      0.96       190\n",
      "         20       0.98      0.97      0.97       217\n",
      "         21       0.96      0.96      0.96       192\n",
      "         22       0.99      0.98      0.98       202\n",
      "         23       0.98      0.93      0.96       196\n",
      "         24       0.98      0.94      0.96       214\n",
      "         25       0.99      0.98      0.99       191\n",
      "\n",
      "avg / total       0.95      0.95      0.95      5000\n",
      "\n"
     ]
    }
   ],
   "source": [
    "from sklearn.metrics import classification_report\n",
    "\n",
    "knn = KNeighborsClassifier(n_neighbors=knn_index, weights='uniform')               \n",
    "\n",
    "knn_model = knn.fit(X_train, Y_train)\n",
    "knn_predict = knn.predict(X_test)\n",
    "\n",
    "report = classification_report(Y_test, knn_predict, labels=None, target_names=None, sample_weight=None, digits=2)\n",
    "print(report)\n"
   ]
  },
  {
   "cell_type": "code",
   "execution_count": 15,
   "metadata": {},
   "outputs": [
    {
     "name": "stdout",
     "output_type": "stream",
     "text": [
      "Mean Accuracy: 96.0601629298 %\n"
     ]
    }
   ],
   "source": [
    "# CROSS VALIDATION\n",
    "from sklearn.model_selection import cross_val_score\n",
    "knn = KNeighborsClassifier(n_neighbors=knn_index, n_jobs=-1, weights='distance')\n",
    "scores = cross_val_score(knn, X, y, cv=10)\n",
    "print('Mean Accuracy:',np.mean(scores)*100,'%')"
   ]
  },
  {
   "cell_type": "markdown",
   "metadata": {},
   "source": [
    "<h1>Extra Trees Classifier</h1>"
   ]
  },
  {
   "cell_type": "code",
   "execution_count": 16,
   "metadata": {},
   "outputs": [
    {
     "name": "stdout",
     "output_type": "stream",
     "text": [
      "Extra Trees Classifier Accuracy with default parameters: 94.24 %\n"
     ]
    }
   ],
   "source": [
    "from sklearn.ensemble import ExtraTreesClassifier\n",
    "etc = ExtraTreesClassifier(n_estimators= 10, random_state=10, max_depth=None)\n",
    "\n",
    "etc_model = etc.fit(X_train, Y_train)\n",
    "etc_predict = etc.predict(X_test)\n",
    "\n",
    "print ('Extra Trees Classifier Accuracy with default parameters:',metrics.accuracy_score(etc_predict, Y_test)*100,'%')"
   ]
  },
  {
   "cell_type": "code",
   "execution_count": 18,
   "metadata": {},
   "outputs": [
    {
     "name": "stdout",
     "output_type": "stream",
     "text": [
      "Max Accuracy of Extra Trees Classifier = 97.32% for estimators = 146\n"
     ]
    },
    {
     "data": {
      "image/png": "[encoded data removed]",
      "text/plain": [
       "<matplotlib.figure.Figure at 0x1af8ff435f8>"
      ]
     },
     "metadata": {},
     "output_type": "display_data"
    }
   ],
   "source": [
    "estimator = range(130,160)\n",
    "etc_acc = []\n",
    "\n",
    "for x in estimator:\n",
    "    etc = ExtraTreesClassifier(n_estimators= x, random_state=10, n_jobs=-1)\n",
    "    etc_model = etc.fit(X_train, Y_train)\n",
    "    etc_acc.append(etc.score(X_test, Y_test))\n",
    "    \n",
    "max_etc_acc = max(etc_acc)\n",
    "etc_index = etc_acc.index(max(etc_acc)) + 121\n",
    "print('Max Accuracy of Extra Trees Classifier = ' + str(max_etc_acc*100) + '% for estimators = ' + str(etc_index))\n",
    "\n",
    "plt.plot(estimator,etc_acc)\n",
    "plt.grid(True)\n",
    "plt.show()"
   ]
  },
  {
   "cell_type": "code",
   "execution_count": 19,
   "metadata": {
    "scrolled": true
   },
   "outputs": [
    {
     "name": "stdout",
     "output_type": "stream",
     "text": [
      "             precision    recall  f1-score   support\n",
      "\n",
      "          0       0.99      0.99      0.99       175\n",
      "          1       0.88      0.98      0.93       204\n",
      "          2       0.99      0.96      0.98       200\n",
      "          3       0.86      0.96      0.91       205\n",
      "          4       0.89      0.99      0.94       175\n",
      "          5       0.86      0.98      0.91       185\n",
      "          6       0.97      0.96      0.97       187\n",
      "          7       0.90      0.90      0.90       178\n",
      "          8       0.94      0.97      0.95       202\n",
      "          9       0.96      0.90      0.93       173\n",
      "         10       0.95      0.90      0.92       200\n",
      "         11       0.99      0.96      0.98       187\n",
      "         12       0.99      0.98      0.98       193\n",
      "         13       0.97      0.96      0.96       189\n",
      "         14       0.89      0.97      0.93       183\n",
      "         15       0.99      0.87      0.92       186\n",
      "         16       0.97      0.94      0.96       198\n",
      "         17       0.96      0.91      0.93       198\n",
      "         18       0.99      0.94      0.97       180\n",
      "         19       0.95      0.98      0.96       190\n",
      "         20       0.98      0.97      0.97       217\n",
      "         21       0.96      0.96      0.96       192\n",
      "         22       0.99      0.98      0.98       202\n",
      "         23       0.98      0.93      0.96       196\n",
      "         24       0.98      0.94      0.96       214\n",
      "         25       0.99      0.98      0.99       191\n",
      "\n",
      "avg / total       0.95      0.95      0.95      5000\n",
      "\n"
     ]
    }
   ],
   "source": [
    "from sklearn.metrics import classification_report\n",
    "\n",
    "etc = ExtraTreesClassifier(n_estimators= etc_index, random_state=10, max_depth=None, n_jobs=-1)\n",
    "etc_model = etc.fit(X_train, Y_train)\n",
    "etc_predict = etc.predict(X_test)\n",
    "\n",
    "report_etc = classification_report(Y_test, etc_predict, labels=None, target_names=None, sample_weight=None, digits=2)\n",
    "print(report)"
   ]
  },
  {
   "cell_type": "code",
   "execution_count": 20,
   "metadata": {},
   "outputs": [
    {
     "name": "stdout",
     "output_type": "stream",
     "text": [
      "Mean Accuracy: 97.4354869865 %\n"
     ]
    }
   ],
   "source": [
    "# CROSS VALIDATION\n",
    "from sklearn.model_selection import cross_val_score\n",
    "etc = ExtraTreesClassifier(n_estimators= etc_index, random_state=10, n_jobs=-1)\n",
    "scores = cross_val_score(etc, X, y, cv=10)\n",
    "print('Mean Accuracy:',np.mean(scores)*100,'%')"
   ]
  },
  {
   "cell_type": "code",
   "execution_count": null,
   "metadata": {
    "collapsed": true
   },
   "outputs": [],
   "source": []
  }
 ],
 "metadata": {
  "kernelspec": {
   "display_name": "Python 3",
   "language": "python",
   "name": "python3"
  },
  "language_info": {
   "codemirror_mode": {
    "name": "ipython",
    "version": 3
   },
   "file_extension": ".py",
   "mimetype": "text/x-python",
   "name": "python",
   "nbconvert_exporter": "python",
   "pygments_lexer": "ipython3",
   "version": "3.6.1"
  }
 },
 "nbformat": 4,
 "nbformat_minor": 2
}
